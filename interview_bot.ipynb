{
  "nbformat": 4,
  "nbformat_minor": 0,
  "metadata": {
    "colab": {
      "provenance": [],
      "gpuType": "T4",
      "private_outputs": true,
      "toc_visible": true,
      "authorship_tag": "ABX9TyO7VZu3NcZSFa7V1hMp/I3p",
      "include_colab_link": true
    },
    "kernelspec": {
      "name": "python3",
      "display_name": "Python 3"
    },
    "language_info": {
      "name": "python"
    },
    "accelerator": "GPU"
  },
  "cells": [
    {
      "cell_type": "markdown",
      "metadata": {
        "id": "view-in-github",
        "colab_type": "text"
      },
      "source": [
        "<a href=\"https://colab.research.google.com/github/MatCat776/InterviewBot/blob/main/interview_bot.ipynb\" target=\"_parent\"><img src=\"https://colab.research.google.com/assets/colab-badge.svg\" alt=\"Open In Colab\"/></a>"
      ]
    },
    {
      "cell_type": "markdown",
      "source": [
        "# My Job Interview Bot\n"
      ],
      "metadata": {
        "id": "3r8L7w0ZWUEQ"
      }
    },
    {
      "cell_type": "markdown",
      "source": [
        "## Configuration"
      ],
      "metadata": {
        "id": "2rlU2bTEyPxq"
      }
    },
    {
      "cell_type": "markdown",
      "source": [
        "### Install Libraries"
      ],
      "metadata": {
        "id": "BIR9rVbpyZNr"
      }
    },
    {
      "cell_type": "code",
      "source": [
        "%pip install --upgrade --quiet google-genai\n",
        "%pip install pdfplumber"
      ],
      "metadata": {
        "id": "YXtPGbBffejR"
      },
      "execution_count": null,
      "outputs": []
    },
    {
      "cell_type": "code",
      "execution_count": null,
      "metadata": {
        "collapsed": true,
        "id": "u7tV7GkDIi_S"
      },
      "outputs": [],
      "source": [
        "import base64"
      ]
    },
    {
      "cell_type": "markdown",
      "source": [
        "### Configure Gemini"
      ],
      "metadata": {
        "id": "q6G85BQoWhTH"
      }
    },
    {
      "cell_type": "code",
      "source": [
        "from google import genai\n",
        "from google.genai import types\n",
        "from google.colab import userdata\n",
        "\n",
        "# create a google api key and save it as a secret in colab before running next\n",
        "# line\n",
        "GOOGLE_API_KEY = userdata.get('AI_STUDIO_API_KEY')\n",
        "model_name = \"gemini-2.5-flash-lite\"\n"
      ],
      "metadata": {
        "id": "ETKSChDxUCKy"
      },
      "execution_count": null,
      "outputs": []
    },
    {
      "cell_type": "markdown",
      "source": [
        "### Configure google drive"
      ],
      "metadata": {
        "id": "ahwxWv2sZ0L5"
      }
    },
    {
      "cell_type": "code",
      "source": [
        "from google.colab import drive\n",
        "# next line requires granting permissions to access drive\n",
        "drive.mount('/content/drive')"
      ],
      "metadata": {
        "id": "OnWj_cp9Z2Bx"
      },
      "execution_count": null,
      "outputs": []
    },
    {
      "cell_type": "markdown",
      "source": [
        "### Configure for multi-turn chat"
      ],
      "metadata": {
        "id": "2fGVMBK2OC_p"
      }
    },
    {
      "cell_type": "code",
      "source": [
        "from google.generativeai import configure\n",
        "from google.generativeai import GenerativeModel\n",
        "from google.generativeai.types import HarmCategory, HarmBlockThreshold # Using the type aliases as available\n",
        "\n",
        "configure(api_key=GOOGLE_API_KEY)\n"
      ],
      "metadata": {
        "id": "Ld6QbdOKOGSz"
      },
      "execution_count": null,
      "outputs": []
    },
    {
      "cell_type": "markdown",
      "source": [
        "## Obtain source data\n"
      ],
      "metadata": {
        "id": "iiDkEUmYaVAK"
      }
    },
    {
      "cell_type": "markdown",
      "source": [
        "### Obtain job posting, txt format"
      ],
      "metadata": {
        "id": "5XjmLlgXg97g"
      }
    },
    {
      "cell_type": "code",
      "source": [
        "# Read the content of the text file\n",
        "with open(\"/content/drive/My Drive/job_posting.txt\", \"r\") as f:\n",
        "    job_posting_content = f.read()"
      ],
      "metadata": {
        "id": "tsTL-gVVaXoz"
      },
      "execution_count": null,
      "outputs": []
    },
    {
      "cell_type": "markdown",
      "source": [
        "### Obtain resume, pdf format\n",
        "Pulling content from google drive and github doesn't seem to work in colab the same way it does in Virtex AI. For some reason, I have to convert the pdf to txt, then I can use it here."
      ],
      "metadata": {
        "id": "UeWuge3Od_iR"
      }
    },
    {
      "cell_type": "code",
      "source": [
        "import pdfplumber\n",
        "\n",
        "def convert_pdf_to_txt_pdfplumber(pdf_path, txt_path):\n",
        "    \"\"\"Converts a PDF file to a plain text file using pdfplumber.\"\"\"\n",
        "    try:\n",
        "        with pdfplumber.open(pdf_path) as pdf, open(txt_path, \"w\", encoding=\"utf-8\") as f:\n",
        "            for page in pdf.pages:\n",
        "                text = page.extract_text()\n",
        "                if text:\n",
        "                    f.write(text + '\\n')  # Add a newline to separate pages\n",
        "        print(f\"Text successfully extracted from {pdf_path} to {txt_path}\")\n",
        "    except Exception as e:\n",
        "        print(f\"Error converting PDF: {e}\")\n",
        "\n",
        "# Example usage:\n",
        "# text_resume_content = get_text_from_pdf(\"/content/drive/My Drive/My_Resume.pdf\")\n",
        "\n",
        "def get_text_from_pdf(pdf_path):\n",
        "  # google drive used as temp storage location\n",
        "  convert_pdf_to_txt_pdfplumber(pdf_path, \"/content/drive/My Drive/temp.txt\")\n",
        "  with open(\"/content/drive/My Drive/temp.txt\", \"r\") as f:\n",
        "    text_resume_content = f.read()\n",
        "    return text_resume_content"
      ],
      "metadata": {
        "id": "_13kT-fKpmwK"
      },
      "execution_count": null,
      "outputs": []
    },
    {
      "cell_type": "code",
      "source": [
        "# Get resume text\n",
        "text_resume_content = get_text_from_pdf(\"/content/drive/My Drive/My_Resume.pdf\")\n"
      ],
      "metadata": {
        "id": "HZSwV9X9bviU"
      },
      "execution_count": null,
      "outputs": []
    },
    {
      "cell_type": "markdown",
      "source": [
        "## Static model settings"
      ],
      "metadata": {
        "id": "ZEX3sM9HWpGN"
      }
    },
    {
      "cell_type": "code",
      "source": [
        "#System instructions\n",
        "my_instructions = \"\"\"\n",
        "You are a job applicant in a job interview. This is your resume:\n",
        "\"\"\" + text_resume_content + \"\"\" This is the job posting: \"\"\" + job_posting_content\n",
        "\n",
        "# Safety settings\n",
        "safety_settings_multiturn = [\n",
        "    {\n",
        "        \"category\": HarmCategory.HARM_CATEGORY_HATE_SPEECH,\n",
        "        \"threshold\": HarmBlockThreshold.BLOCK_LOW_AND_ABOVE, # Block low and above probability derogatory content\n",
        "    },\n",
        "    {\n",
        "        \"category\": HarmCategory.HARM_CATEGORY_DANGEROUS_CONTENT,\n",
        "        \"threshold\": HarmBlockThreshold.BLOCK_MEDIUM_AND_ABOVE, # Block medium and above probability violent content\n",
        "    },\n",
        "    {\n",
        "        \"category\": HarmCategory.HARM_CATEGORY_SEXUALLY_EXPLICIT,\n",
        "        \"threshold\": HarmBlockThreshold.BLOCK_MEDIUM_AND_ABOVE, # Block medium and above probability violent content\n",
        "    },\n",
        "    {\n",
        "        \"category\": HarmCategory.HARM_CATEGORY_HARASSMENT,\n",
        "        \"threshold\": HarmBlockThreshold.BLOCK_MEDIUM_AND_ABOVE, # Block medium and above probability violent content\n",
        "    },\n",
        "]\n"
      ],
      "metadata": {
        "id": "8PUHeawVOpGq"
      },
      "execution_count": null,
      "outputs": []
    },
    {
      "cell_type": "markdown",
      "source": [
        "## Start up model"
      ],
      "metadata": {
        "id": "qSSM-Qisdm7n"
      }
    },
    {
      "cell_type": "code",
      "source": [
        "model = GenerativeModel(model_name=model_name, system_instruction=my_instructions, safety_settings=safety_settings_multiturn)\n",
        "\n",
        "chat = model.start_chat(history=[])\n",
        "\n",
        "# function to display question and answer\n",
        "def ask_question(question):\n",
        "  user_message = question\n",
        "  response = chat.send_message(user_message)\n",
        "  print(f\"User: {user_message}\")\n",
        "  print(f\"Gemini: {response.text}\")"
      ],
      "metadata": {
        "id": "FTsxAc6RdpdB"
      },
      "execution_count": null,
      "outputs": []
    },
    {
      "cell_type": "markdown",
      "source": [
        "## Interview Questions"
      ],
      "metadata": {
        "id": "9rrT8WFLXdyj"
      }
    },
    {
      "cell_type": "code",
      "source": [
        "ask_question(\"What is your name?\")\n",
        "ask_question(\"Why are you a good fit for this job?\")\n",
        "ask_question(\"What is your salary expectation?\")"
      ],
      "metadata": {
        "id": "Euwd46KFd57S"
      },
      "execution_count": null,
      "outputs": []
    }
  ]
}